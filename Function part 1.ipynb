{
 "cells": [
  {
   "cell_type": "code",
   "execution_count": 1,
   "id": "2354b46a-8e52-47ac-a68f-63ac731d3796",
   "metadata": {},
   "outputs": [
    {
     "name": "stdout",
     "output_type": "stream",
     "text": [
      "this is my print\n"
     ]
    }
   ],
   "source": [
    "print(\"this is my print\")"
   ]
  },
  {
   "cell_type": "code",
   "execution_count": 2,
   "id": "de545fe5-fe2c-46ba-b4ee-c4f7eff0da72",
   "metadata": {},
   "outputs": [],
   "source": [
    "l = [324, 45, 45, 45]"
   ]
  },
  {
   "cell_type": "code",
   "execution_count": 3,
   "id": "482ad49e-e4cc-4609-b4f7-3686ddf9e60a",
   "metadata": {},
   "outputs": [
    {
     "data": {
      "text/plain": [
       "4"
      ]
     },
     "execution_count": 3,
     "metadata": {},
     "output_type": "execute_result"
    }
   ],
   "source": [
    "len(l)"
   ]
  },
  {
   "cell_type": "code",
   "execution_count": 4,
   "id": "f3c0820e-7977-4a17-9c55-8bfd0114613b",
   "metadata": {},
   "outputs": [
    {
     "data": {
      "text/plain": [
       "list"
      ]
     },
     "execution_count": 4,
     "metadata": {},
     "output_type": "execute_result"
    }
   ],
   "source": [
    "type(l)"
   ]
  },
  {
   "cell_type": "code",
   "execution_count": 5,
   "id": "7679e7a9-ca3b-4c3d-aa84-3c5d87ff5553",
   "metadata": {},
   "outputs": [],
   "source": [
    "def test() :\n",
    "    pass"
   ]
  },
  {
   "cell_type": "code",
   "execution_count": 7,
   "id": "31640bd3-66b0-4a94-a2fe-7f074f2a17a2",
   "metadata": {},
   "outputs": [],
   "source": [
    "def test1() :\n",
    "    print(\"this is my very very first function\")"
   ]
  },
  {
   "cell_type": "code",
   "execution_count": 8,
   "id": "6c5ec495-8040-4d19-b48a-ce1d5d552e4d",
   "metadata": {},
   "outputs": [
    {
     "name": "stdout",
     "output_type": "stream",
     "text": [
      "this is my very very first function\n"
     ]
    }
   ],
   "source": [
    "test1()"
   ]
  },
  {
   "cell_type": "code",
   "execution_count": 10,
   "id": "452b3f83-0d48-4848-93ae-8444ef4a4b85",
   "metadata": {},
   "outputs": [
    {
     "name": "stdout",
     "output_type": "stream",
     "text": [
      "this is my very very first function\n"
     ]
    },
    {
     "ename": "TypeError",
     "evalue": "unsupported operand type(s) for +: 'NoneType' and 'str'",
     "output_type": "error",
     "traceback": [
      "\u001b[0;31m---------------------------------------------------------------------------\u001b[0m",
      "\u001b[0;31mTypeError\u001b[0m                                 Traceback (most recent call last)",
      "Cell \u001b[0;32mIn[10], line 1\u001b[0m\n\u001b[0;32m----> 1\u001b[0m \u001b[43mtest1\u001b[49m\u001b[43m(\u001b[49m\u001b[43m)\u001b[49m\u001b[43m \u001b[49m\u001b[38;5;241;43m+\u001b[39;49m\u001b[43m \u001b[49m\u001b[38;5;124;43m\"\u001b[39;49m\u001b[38;5;124;43msudh\u001b[39;49m\u001b[38;5;124;43m\"\u001b[39;49m\n",
      "\u001b[0;31mTypeError\u001b[0m: unsupported operand type(s) for +: 'NoneType' and 'str'"
     ]
    }
   ],
   "source": [
    "test1() + \"sudh\""
   ]
  },
  {
   "cell_type": "code",
   "execution_count": 11,
   "id": "2f674887-b34f-4da1-9088-4961216f0247",
   "metadata": {},
   "outputs": [],
   "source": [
    "def test2():\n",
    "    return \"this is my very first return\""
   ]
  },
  {
   "cell_type": "code",
   "execution_count": 12,
   "id": "3e4e0bd2-7ded-4f3c-9ffb-6619c5e33e2b",
   "metadata": {},
   "outputs": [
    {
     "data": {
      "text/plain": [
       "'this is my very first return'"
      ]
     },
     "execution_count": 12,
     "metadata": {},
     "output_type": "execute_result"
    }
   ],
   "source": [
    "test2()"
   ]
  },
  {
   "cell_type": "code",
   "execution_count": 13,
   "id": "753ee503-741c-42cd-9718-ce371469ae58",
   "metadata": {},
   "outputs": [],
   "source": [
    "def test3() :\n",
    "    \n",
    "    return \"sudh\", 23, 345.56, [1,2,3,3]"
   ]
  },
  {
   "cell_type": "code",
   "execution_count": 14,
   "id": "1b7925e6-62ac-4f89-98ee-43280055b30b",
   "metadata": {},
   "outputs": [
    {
     "data": {
      "text/plain": [
       "('sudh', 23, 345.56, [1, 2, 3, 3])"
      ]
     },
     "execution_count": 14,
     "metadata": {},
     "output_type": "execute_result"
    }
   ],
   "source": [
    "test3()"
   ]
  },
  {
   "cell_type": "code",
   "execution_count": 15,
   "id": "9d59528b-7b6d-4b3e-b04d-0e3b14834903",
   "metadata": {},
   "outputs": [],
   "source": [
    "a,b,c,d = test3()"
   ]
  },
  {
   "cell_type": "code",
   "execution_count": 16,
   "id": "199b616c-6638-4bc1-ae10-4d9a15ea0703",
   "metadata": {},
   "outputs": [
    {
     "data": {
      "text/plain": [
       "'sudh'"
      ]
     },
     "execution_count": 16,
     "metadata": {},
     "output_type": "execute_result"
    }
   ],
   "source": [
    "a"
   ]
  },
  {
   "cell_type": "code",
   "execution_count": 17,
   "id": "06afa34e-319a-49eb-8893-d68b0d6390ea",
   "metadata": {},
   "outputs": [
    {
     "data": {
      "text/plain": [
       "23"
      ]
     },
     "execution_count": 17,
     "metadata": {},
     "output_type": "execute_result"
    }
   ],
   "source": [
    "b"
   ]
  },
  {
   "cell_type": "code",
   "execution_count": 18,
   "id": "075cd4a6-480a-4fd9-987a-e60b8e88a04c",
   "metadata": {},
   "outputs": [
    {
     "data": {
      "text/plain": [
       "345.56"
      ]
     },
     "execution_count": 18,
     "metadata": {},
     "output_type": "execute_result"
    }
   ],
   "source": [
    "c"
   ]
  },
  {
   "cell_type": "code",
   "execution_count": 19,
   "id": "3996e9d8-5f66-41f8-89cf-f67698865cac",
   "metadata": {},
   "outputs": [
    {
     "data": {
      "text/plain": [
       "[1, 2, 3, 3]"
      ]
     },
     "execution_count": 19,
     "metadata": {},
     "output_type": "execute_result"
    }
   ],
   "source": [
    "d"
   ]
  },
  {
   "cell_type": "code",
   "execution_count": 20,
   "id": "8a32b50d-262e-43f6-a96b-336c7a70aca3",
   "metadata": {},
   "outputs": [],
   "source": [
    "a = 1\n",
    "b = 4"
   ]
  },
  {
   "cell_type": "code",
   "execution_count": 21,
   "id": "b981a5ce-7726-4132-8999-2813b4d4cfd5",
   "metadata": {},
   "outputs": [],
   "source": [
    "a, b = 1, 4"
   ]
  },
  {
   "cell_type": "code",
   "execution_count": 22,
   "id": "0d853b86-047e-479b-a683-9dadbea1e14f",
   "metadata": {},
   "outputs": [
    {
     "data": {
      "text/plain": [
       "1"
      ]
     },
     "execution_count": 22,
     "metadata": {},
     "output_type": "execute_result"
    }
   ],
   "source": [
    "a"
   ]
  },
  {
   "cell_type": "code",
   "execution_count": 23,
   "id": "3d90322f-1cf0-444f-b454-8ea37a7cbf44",
   "metadata": {},
   "outputs": [
    {
     "data": {
      "text/plain": [
       "4"
      ]
     },
     "execution_count": 23,
     "metadata": {},
     "output_type": "execute_result"
    }
   ],
   "source": [
    "b"
   ]
  },
  {
   "cell_type": "code",
   "execution_count": 24,
   "id": "1600db3f-b1ea-4ecc-a351-8de1b471287a",
   "metadata": {},
   "outputs": [],
   "source": [
    "def test4() :\n",
    "    a = 5+6/7\n",
    "    return a"
   ]
  },
  {
   "cell_type": "code",
   "execution_count": 25,
   "id": "a5389885-1aa3-455b-9c80-dcecd4b08230",
   "metadata": {},
   "outputs": [
    {
     "data": {
      "text/plain": [
       "5.857142857142857"
      ]
     },
     "execution_count": 25,
     "metadata": {},
     "output_type": "execute_result"
    }
   ],
   "source": [
    "test4()"
   ]
  },
  {
   "cell_type": "code",
   "execution_count": 26,
   "id": "ef546370-4127-4a72-97b7-21fb2a9fb0e1",
   "metadata": {},
   "outputs": [],
   "source": [
    "def test5(a,b,c):\n",
    "    d = a+b/c\n",
    "    return d"
   ]
  },
  {
   "cell_type": "code",
   "execution_count": 29,
   "id": "2dec2cf0-b776-4aad-ace2-f08e9f1b4f8b",
   "metadata": {},
   "outputs": [
    {
     "ename": "TypeError",
     "evalue": "test5() missing 3 required positional arguments: 'a', 'b', and 'c'",
     "output_type": "error",
     "traceback": [
      "\u001b[0;31m---------------------------------------------------------------------------\u001b[0m",
      "\u001b[0;31mTypeError\u001b[0m                                 Traceback (most recent call last)",
      "Cell \u001b[0;32mIn[29], line 1\u001b[0m\n\u001b[0;32m----> 1\u001b[0m \u001b[43mtest5\u001b[49m\u001b[43m(\u001b[49m\u001b[43m)\u001b[49m\n",
      "\u001b[0;31mTypeError\u001b[0m: test5() missing 3 required positional arguments: 'a', 'b', and 'c'"
     ]
    }
   ],
   "source": [
    "test5()"
   ]
  },
  {
   "cell_type": "code",
   "execution_count": 30,
   "id": "467acad0-b234-4f1f-a401-67e2a5c8cdd2",
   "metadata": {},
   "outputs": [
    {
     "data": {
      "text/plain": [
       "5.857142857142857"
      ]
     },
     "execution_count": 30,
     "metadata": {},
     "output_type": "execute_result"
    }
   ],
   "source": [
    "test5(5,6,7)"
   ]
  },
  {
   "cell_type": "code",
   "execution_count": 31,
   "id": "86a3e910-fd56-433c-9d19-c6b790ee8036",
   "metadata": {},
   "outputs": [],
   "source": [
    "def test6(a, b) :\n",
    "    return a+b\n",
    "          "
   ]
  },
  {
   "cell_type": "code",
   "execution_count": 32,
   "id": "6e50462e-fc59-4a92-a083-b53a03855a9f",
   "metadata": {},
   "outputs": [
    {
     "data": {
      "text/plain": [
       "11"
      ]
     },
     "execution_count": 32,
     "metadata": {},
     "output_type": "execute_result"
    }
   ],
   "source": [
    "test6(5,6)"
   ]
  },
  {
   "cell_type": "code",
   "execution_count": 34,
   "id": "f59869fa-a79a-4b85-abf3-2782a2724529",
   "metadata": {},
   "outputs": [
    {
     "data": {
      "text/plain": [
       "'nilesh kumar'"
      ]
     },
     "execution_count": 34,
     "metadata": {},
     "output_type": "execute_result"
    }
   ],
   "source": [
    "test6(\"nilesh\", \" kumar\")"
   ]
  },
  {
   "cell_type": "code",
   "execution_count": 35,
   "id": "894c4fb3-b42b-4f21-a92b-abcac0193f80",
   "metadata": {},
   "outputs": [
    {
     "data": {
      "text/plain": [
       "[1, 2, 3, 4, 5, 4, 5, 6]"
      ]
     },
     "execution_count": 35,
     "metadata": {},
     "output_type": "execute_result"
    }
   ],
   "source": [
    "test6([1,2,3,4,5], [4,5,6])"
   ]
  },
  {
   "cell_type": "code",
   "execution_count": 36,
   "id": "75e2829a-8dd1-46c8-af2e-6db691cc71cd",
   "metadata": {},
   "outputs": [],
   "source": [
    "l = [1,2,3,4,\"nilesh\",\"kumar\", [1,2,3,4,5,6]]"
   ]
  },
  {
   "cell_type": "code",
   "execution_count": 37,
   "id": "c7ee8eda-bf59-42d6-98a8-5890002c53a5",
   "metadata": {},
   "outputs": [],
   "source": [
    "l1 = []\n",
    "for i in l :\n",
    "    if type(i) == int or type(i) == float :\n",
    "        l1.append(i)"
   ]
  },
  {
   "cell_type": "code",
   "execution_count": 38,
   "id": "839f4e09-22a0-46c4-9437-15cf66fea1b3",
   "metadata": {},
   "outputs": [
    {
     "data": {
      "text/plain": [
       "[1, 2, 3, 4]"
      ]
     },
     "execution_count": 38,
     "metadata": {},
     "output_type": "execute_result"
    }
   ],
   "source": [
    "l1"
   ]
  },
  {
   "cell_type": "code",
   "execution_count": 40,
   "id": "05e719b7-d921-4f35-b9f1-5b282433fd16",
   "metadata": {},
   "outputs": [],
   "source": [
    "def test7():\n",
    "    l1 = []\n",
    "    for i in l :\n",
    "        if type(i) == int or type(i) == float :\n",
    "            l1.append(i)\n",
    "    return l1\n",
    "    "
   ]
  },
  {
   "cell_type": "code",
   "execution_count": 41,
   "id": "d0659de6-0a8b-4dc3-bf8c-455f338eda15",
   "metadata": {},
   "outputs": [
    {
     "data": {
      "text/plain": [
       "[1, 2, 3, 4]"
      ]
     },
     "execution_count": 41,
     "metadata": {},
     "output_type": "execute_result"
    }
   ],
   "source": [
    "test7()"
   ]
  },
  {
   "cell_type": "code",
   "execution_count": 42,
   "id": "606ab0bd-fa3e-4ebf-bc00-1b5b89c6ad36",
   "metadata": {},
   "outputs": [
    {
     "data": {
      "text/plain": [
       "[1, 2, 3, 4, 'nilesh', 'kumar', [1, 2, 3, 4, 5, 6]]"
      ]
     },
     "execution_count": 42,
     "metadata": {},
     "output_type": "execute_result"
    }
   ],
   "source": [
    "l"
   ]
  },
  {
   "cell_type": "code",
   "execution_count": 44,
   "id": "b4c85697-3d56-4aa5-995c-ff945b6df1be",
   "metadata": {},
   "outputs": [],
   "source": [
    "def test8(a):\n",
    "    l = []\n",
    "    for i in a:\n",
    "        if type(i) == list :\n",
    "            for j in i :\n",
    "                l.append(j)\n",
    "        else :\n",
    "            if type(i) == int or type(i) == float :\n",
    "                l.append(i)\n",
    "    return l"
   ]
  },
  {
   "cell_type": "code",
   "execution_count": 45,
   "id": "ab26e69e-9c86-4724-8eb8-e16805919720",
   "metadata": {},
   "outputs": [
    {
     "data": {
      "text/plain": [
       "[1, 2, 3, 4, 1, 2, 3, 4, 5, 6]"
      ]
     },
     "execution_count": 45,
     "metadata": {},
     "output_type": "execute_result"
    }
   ],
   "source": [
    "test8(l)"
   ]
  },
  {
   "cell_type": "code",
   "execution_count": 48,
   "id": "523bef3d-ca22-44cc-a48c-065df9888638",
   "metadata": {},
   "outputs": [
    {
     "data": {
      "text/plain": [
       "[1, 2, 3, 4, 'nilesh', 'kumar', [1, 2, 3, 4, 5, 6]]"
      ]
     },
     "execution_count": 48,
     "metadata": {},
     "output_type": "execute_result"
    }
   ],
   "source": [
    "l"
   ]
  },
  {
   "cell_type": "code",
   "execution_count": 49,
   "id": "644a35e5-99f7-4417-8ff3-a830b0df2952",
   "metadata": {},
   "outputs": [
    {
     "ename": "TypeError",
     "evalue": "test8() missing 1 required positional argument: 'a'",
     "output_type": "error",
     "traceback": [
      "\u001b[0;31m---------------------------------------------------------------------------\u001b[0m",
      "\u001b[0;31mTypeError\u001b[0m                                 Traceback (most recent call last)",
      "Cell \u001b[0;32mIn[49], line 1\u001b[0m\n\u001b[0;32m----> 1\u001b[0m \u001b[43mtest8\u001b[49m\u001b[43m(\u001b[49m\u001b[43m)\u001b[49m\n",
      "\u001b[0;31mTypeError\u001b[0m: test8() missing 1 required positional argument: 'a'"
     ]
    }
   ],
   "source": [
    "test8()"
   ]
  },
  {
   "cell_type": "code",
   "execution_count": 50,
   "id": "c6f6cc93-eabf-4f77-8457-ada1b908c903",
   "metadata": {},
   "outputs": [],
   "source": [
    "def test9(a):\n",
    "    \"\"\"this is my function to extract num data from list\"\"\"\n",
    "    \n",
    "    l = []\n",
    "    for i in a:\n",
    "        if type(i) == list :\n",
    "            for j in i :\n",
    "                l.append(j)\n",
    "        else :\n",
    "            if type(i) == int or type(i) == float :\n",
    "                l.append(i)\n",
    "    return l"
   ]
  },
  {
   "cell_type": "code",
   "execution_count": null,
   "id": "62e5c16d-9567-4bc2-82fa-8d311f783c55",
   "metadata": {},
   "outputs": [],
   "source": [
    "test9()"
   ]
  },
  {
   "cell_type": "code",
   "execution_count": 52,
   "id": "f693bef1-ffcf-4c92-a6e7-2ca4ac61980e",
   "metadata": {},
   "outputs": [],
   "source": [
    "def test10(a,b):\n",
    "    return a+b"
   ]
  },
  {
   "cell_type": "code",
   "execution_count": 53,
   "id": "cc7e6ace-8f0a-4ca2-9358-1d168fd92110",
   "metadata": {},
   "outputs": [],
   "source": [
    "def test11(*args) :\n",
    "    return args"
   ]
  },
  {
   "cell_type": "code",
   "execution_count": 54,
   "id": "b886624a-5298-4164-82c6-b92dd60629f6",
   "metadata": {},
   "outputs": [
    {
     "data": {
      "text/plain": [
       "()"
      ]
     },
     "execution_count": 54,
     "metadata": {},
     "output_type": "execute_result"
    }
   ],
   "source": [
    "test11()"
   ]
  },
  {
   "cell_type": "code",
   "execution_count": 55,
   "id": "03691c4e-31b2-451b-ae6f-c74ff3862377",
   "metadata": {},
   "outputs": [
    {
     "data": {
      "text/plain": [
       "(1, 2, 3)"
      ]
     },
     "execution_count": 55,
     "metadata": {},
     "output_type": "execute_result"
    }
   ],
   "source": [
    "test11(1,2,3)"
   ]
  },
  {
   "cell_type": "code",
   "execution_count": 56,
   "id": "b8fa5956-3646-4272-ad88-dec6eb94034b",
   "metadata": {},
   "outputs": [
    {
     "data": {
      "text/plain": [
       "(1, 2, 3, 'nilesh', 'kumar', [1, 2, 3, 4, 4])"
      ]
     },
     "execution_count": 56,
     "metadata": {},
     "output_type": "execute_result"
    }
   ],
   "source": [
    "test11(1,2,3,\"nilesh\", \"kumar\", [1,2,3,4,4])"
   ]
  },
  {
   "cell_type": "code",
   "execution_count": 57,
   "id": "8012aec3-c850-413c-889d-6197e1902f48",
   "metadata": {},
   "outputs": [],
   "source": [
    "def test12(*nilesh) :\n",
    "    return nilesh"
   ]
  },
  {
   "cell_type": "code",
   "execution_count": 58,
   "id": "ae1ecb29-ca15-4977-beeb-5ac68bcc2894",
   "metadata": {},
   "outputs": [
    {
     "data": {
      "text/plain": [
       "(1, 2, 34, 4)"
      ]
     },
     "execution_count": 58,
     "metadata": {},
     "output_type": "execute_result"
    }
   ],
   "source": [
    "test12(1,2,34,4)"
   ]
  },
  {
   "cell_type": "code",
   "execution_count": 60,
   "id": "39ada0de-96fc-4cd2-93e4-fe235a93cf88",
   "metadata": {},
   "outputs": [],
   "source": [
    "def test13(*args, a):\n",
    "    return args, a"
   ]
  },
  {
   "cell_type": "code",
   "execution_count": 61,
   "id": "c71198fe-424b-4a40-b3f6-896a64ce7cd1",
   "metadata": {},
   "outputs": [
    {
     "ename": "TypeError",
     "evalue": "test13() missing 1 required keyword-only argument: 'a'",
     "output_type": "error",
     "traceback": [
      "\u001b[0;31m---------------------------------------------------------------------------\u001b[0m",
      "\u001b[0;31mTypeError\u001b[0m                                 Traceback (most recent call last)",
      "Cell \u001b[0;32mIn[61], line 1\u001b[0m\n\u001b[0;32m----> 1\u001b[0m \u001b[43mtest13\u001b[49m\u001b[43m(\u001b[49m\u001b[38;5;241;43m1\u001b[39;49m\u001b[43m,\u001b[49m\u001b[38;5;241;43m2\u001b[39;49m\u001b[43m,\u001b[49m\u001b[38;5;241;43m3\u001b[39;49m\u001b[43m,\u001b[49m\u001b[38;5;241;43m4\u001b[39;49m\u001b[43m)\u001b[49m\n",
      "\u001b[0;31mTypeError\u001b[0m: test13() missing 1 required keyword-only argument: 'a'"
     ]
    }
   ],
   "source": [
    "test13(1,2,3,4)"
   ]
  },
  {
   "cell_type": "code",
   "execution_count": 62,
   "id": "6f74604f-98fc-489a-8728-9c6fb094ab5a",
   "metadata": {},
   "outputs": [
    {
     "data": {
      "text/plain": [
       "((1, 2, 3, 4), 23)"
      ]
     },
     "execution_count": 62,
     "metadata": {},
     "output_type": "execute_result"
    }
   ],
   "source": [
    "test13(1,2,3,4, a = 23)"
   ]
  },
  {
   "cell_type": "code",
   "execution_count": 63,
   "id": "07bd0d40-dc0b-46d0-b67c-7fe0a0a558dd",
   "metadata": {},
   "outputs": [],
   "source": [
    "def test14(c,d,a = 23, b = 1):\n",
    "    return a,b,c,d"
   ]
  },
  {
   "cell_type": "code",
   "execution_count": 64,
   "id": "42f36c48-8011-4372-8494-4d44cc153ea7",
   "metadata": {},
   "outputs": [
    {
     "ename": "TypeError",
     "evalue": "test14() missing 2 required positional arguments: 'c' and 'd'",
     "output_type": "error",
     "traceback": [
      "\u001b[0;31m---------------------------------------------------------------------------\u001b[0m",
      "\u001b[0;31mTypeError\u001b[0m                                 Traceback (most recent call last)",
      "Cell \u001b[0;32mIn[64], line 1\u001b[0m\n\u001b[0;32m----> 1\u001b[0m \u001b[43mtest14\u001b[49m\u001b[43m(\u001b[49m\u001b[43m)\u001b[49m\n",
      "\u001b[0;31mTypeError\u001b[0m: test14() missing 2 required positional arguments: 'c' and 'd'"
     ]
    }
   ],
   "source": [
    "test14()"
   ]
  },
  {
   "cell_type": "code",
   "execution_count": 65,
   "id": "ebfcb0ef-dd0d-49ab-8e42-5db91195a843",
   "metadata": {},
   "outputs": [
    {
     "data": {
      "text/plain": [
       "(23, 1, 3, 4)"
      ]
     },
     "execution_count": 65,
     "metadata": {},
     "output_type": "execute_result"
    }
   ],
   "source": [
    "test14(3,4)"
   ]
  },
  {
   "cell_type": "code",
   "execution_count": 66,
   "id": "712b6002-4ec6-4712-87f9-20485a2544b3",
   "metadata": {},
   "outputs": [
    {
     "data": {
      "text/plain": [
       "(466, 1, 2, 5)"
      ]
     },
     "execution_count": 66,
     "metadata": {},
     "output_type": "execute_result"
    }
   ],
   "source": [
    "test14(2,5, a = 466)"
   ]
  },
  {
   "cell_type": "code",
   "execution_count": 68,
   "id": "a4a6ab2f-50b3-4aa3-83ce-fae0da111a1c",
   "metadata": {},
   "outputs": [],
   "source": [
    "def test15(**kwargs) :\n",
    "    return kwargs"
   ]
  },
  {
   "cell_type": "code",
   "execution_count": 69,
   "id": "fae76f9d-1d8f-4821-9d6c-fca9cf372edb",
   "metadata": {},
   "outputs": [
    {
     "data": {
      "text/plain": [
       "{}"
      ]
     },
     "execution_count": 69,
     "metadata": {},
     "output_type": "execute_result"
    }
   ],
   "source": [
    "test15()"
   ]
  },
  {
   "cell_type": "code",
   "execution_count": 70,
   "id": "39e3cfcb-10eb-4748-af3a-26cb38041b6f",
   "metadata": {},
   "outputs": [
    {
     "data": {
      "text/plain": [
       "dict"
      ]
     },
     "execution_count": 70,
     "metadata": {},
     "output_type": "execute_result"
    }
   ],
   "source": [
    "type(test15())"
   ]
  },
  {
   "cell_type": "code",
   "execution_count": 71,
   "id": "021820a8-8ebb-4751-8acc-64e9c586d4e6",
   "metadata": {},
   "outputs": [
    {
     "data": {
      "text/plain": [
       "{'a': [1, 2, 3, 4], 'b': 'sudh', 'c': 23.45}"
      ]
     },
     "execution_count": 71,
     "metadata": {},
     "output_type": "execute_result"
    }
   ],
   "source": [
    "test15(a = [1,2,3,4], b = \"sudh\", c = 23.45)"
   ]
  },
  {
   "cell_type": "code",
   "execution_count": null,
   "id": "00453943-1f7a-4681-b04f-8af628ebe2c6",
   "metadata": {},
   "outputs": [],
   "source": []
  }
 ],
 "metadata": {
  "kernelspec": {
   "display_name": "Python 3 (ipykernel)",
   "language": "python",
   "name": "python3"
  },
  "language_info": {
   "codemirror_mode": {
    "name": "ipython",
    "version": 3
   },
   "file_extension": ".py",
   "mimetype": "text/x-python",
   "name": "python",
   "nbconvert_exporter": "python",
   "pygments_lexer": "ipython3",
   "version": "3.10.8"
  }
 },
 "nbformat": 4,
 "nbformat_minor": 5
}
